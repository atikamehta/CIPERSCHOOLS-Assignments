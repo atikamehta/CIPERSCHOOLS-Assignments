{
 "cells": [
  {
   "cell_type": "code",
   "execution_count": 1,
   "metadata": {},
   "outputs": [
    {
     "name": "stdout",
     "output_type": "stream",
     "text": [
      "enter number:13\n",
      "1\n"
     ]
    }
   ],
   "source": [
    "#ques 4 \n",
    "binum=[0,1]\n",
    "num=int(input('enter number:'))\n",
    "print(binum[num%2])"
   ]
  },
  {
   "cell_type": "code",
   "execution_count": 2,
   "metadata": {},
   "outputs": [
    {
     "name": "stdout",
     "output_type": "stream",
     "text": [
      "[1, 2, 3, 4]\n",
      "[5, 6, 7, 8]\n",
      "list: [1, 2, 3, 4, 5, 6, 7, 8]\n"
     ]
    }
   ],
   "source": [
    "#ques 5\n",
    "A=[1,2,3,4]\n",
    "B=[5,6,7,8]\n",
    "print(A)\n",
    "print(B)\n",
    "C=A+B\n",
    "C.sort()\n",
    "print('list:',C)"
   ]
  },
  {
   "cell_type": "code",
   "execution_count": 3,
   "metadata": {},
   "outputs": [
    {
     "name": "stdout",
     "output_type": "stream",
     "text": [
      "enter a number:13\n",
      "enter a bit you want to change1\n",
      "15\n"
     ]
    }
   ],
   "source": [
    "#ques 3\n",
    "num=int(input('enter a number:'))\n",
    "i=int(input('enter a bit you want to change'))\n",
    "mn=1<<i\n",
    "print(num|mn)"
   ]
  },
  {
   "cell_type": "markdown",
   "metadata": {},
   "source": []
  },
  {
   "cell_type": "code",
   "execution_count": 4,
   "metadata": {},
   "outputs": [
    {
     "name": "stdout",
     "output_type": "stream",
     "text": [
      "(1, 2, 3, 4)\n",
      "the length is 4\n",
      "the sum is 10\n",
      "the largest is 4\n",
      "the smallest is 1\n"
     ]
    }
   ],
   "source": [
    "#ques 2\n",
    "t=(1,2,3,4)\n",
    "print(t)\n",
    "print('the length is',len(t))\n",
    "print('the sum is',sum(t))\n",
    "print('the largest is',max(t))\n",
    "print('the smallest is',min(t))"
   ]
  },
  {
   "cell_type": "code",
   "execution_count": 5,
   "metadata": {},
   "outputs": [
    {
     "name": "stdout",
     "output_type": "stream",
     "text": [
      "[4, 5, 6, 8]\n"
     ]
    }
   ],
   "source": [
    "#ques 1\n",
    "L=[4,4,5,6,8,4,5]\n",
    "L2=list(set(L))\n",
    "L2.sort()\n",
    "print(L2)"
   ]
  },
  {
   "cell_type": "code",
   "execution_count": 2,
   "metadata": {},
   "outputs": [
    {
     "name": "stdout",
     "output_type": "stream",
     "text": [
      "Entered student name and marks are : {'Berlin': 70, 'Oslo': 0, 'Moscow': 50, 'Nairobi': 100}\n",
      "After sorting: {'Oslo': 0, 'Moscow': 50, 'Berlin': 70, 'Nairobi': 100}\n"
     ]
    }
   ],
   "source": [
    "#ques 6\n",
    "student={'Berlin' : 70,'Oslo': 0,'Moscow':50,'Nairobi':100}\n",
    "print('Entered student name and marks are :',student)\n",
    "sorted_dict=sorted(student.items(),key= lambda t:t[1])\n",
    "print('After sorting:',dict(sorted_dict))"
   ]
  },
  {
   "cell_type": "code",
   "execution_count": null,
   "metadata": {},
   "outputs": [],
   "source": []
  }
 ],
 "metadata": {
  "kernelspec": {
   "display_name": "Python 3",
   "language": "python",
   "name": "python3"
  },
  "language_info": {
   "codemirror_mode": {
    "name": "ipython",
    "version": 3
   },
   "file_extension": ".py",
   "mimetype": "text/x-python",
   "name": "python",
   "nbconvert_exporter": "python",
   "pygments_lexer": "ipython3",
   "version": "3.7.6"
  }
 },
 "nbformat": 4,
 "nbformat_minor": 4
}
